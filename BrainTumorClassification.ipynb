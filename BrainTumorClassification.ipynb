{
  "cells": [
    {
      "cell_type": "markdown",
      "metadata": {
        "id": "view-in-github",
        "colab_type": "text"
      },
      "source": [
        "<a href=\"https://colab.research.google.com/github/savindumahasen/MRI-Brain-Tumor-Classification/blob/main/BrainTumorClassification.ipynb\" target=\"_parent\"><img src=\"https://colab.research.google.com/assets/colab-badge.svg\" alt=\"Open In Colab\"/></a>"
      ]
    },
    {
      "cell_type": "code",
      "execution_count": 1,
      "metadata": {
        "id": "AZRIJz5ect1-",
        "colab": {
          "base_uri": "https://localhost:8080/"
        },
        "outputId": "fe5fc6e6-c5bd-4245-fc0b-fbb501a0e0ab"
      },
      "outputs": [
        {
          "output_type": "stream",
          "name": "stdout",
          "text": [
            "\u001b[2K   \u001b[90m━━━━━━━━━━━━━━━━━━━━━━━━━━━━━━━━━━━━━━━━\u001b[0m \u001b[32m644.9/644.9 MB\u001b[0m \u001b[31m1.6 MB/s\u001b[0m eta \u001b[36m0:00:00\u001b[0m\n",
            "\u001b[2K   \u001b[90m━━━━━━━━━━━━━━━━━━━━━━━━━━━━━━━━━━━━━━━━\u001b[0m \u001b[32m57.5/57.5 kB\u001b[0m \u001b[31m4.2 MB/s\u001b[0m eta \u001b[36m0:00:00\u001b[0m\n",
            "\u001b[2K   \u001b[90m━━━━━━━━━━━━━━━━━━━━━━━━━━━━━━━━━━━━━━━━\u001b[0m \u001b[32m24.5/24.5 MB\u001b[0m \u001b[31m81.6 MB/s\u001b[0m eta \u001b[36m0:00:00\u001b[0m\n",
            "\u001b[2K   \u001b[90m━━━━━━━━━━━━━━━━━━━━━━━━━━━━━━━━━━━━━━━━\u001b[0m \u001b[32m5.5/5.5 MB\u001b[0m \u001b[31m115.2 MB/s\u001b[0m eta \u001b[36m0:00:00\u001b[0m\n",
            "\u001b[2K   \u001b[90m━━━━━━━━━━━━━━━━━━━━━━━━━━━━━━━━━━━━━━━━\u001b[0m \u001b[32m5.1/5.1 MB\u001b[0m \u001b[31m110.5 MB/s\u001b[0m eta \u001b[36m0:00:00\u001b[0m\n",
            "\u001b[2K   \u001b[90m━━━━━━━━━━━━━━━━━━━━━━━━━━━━━━━━━━━━━━━━\u001b[0m \u001b[32m6.6/6.6 MB\u001b[0m \u001b[31m117.8 MB/s\u001b[0m eta \u001b[36m0:00:00\u001b[0m\n",
            "\u001b[2K   \u001b[90m━━━━━━━━━━━━━━━━━━━━━━━━━━━━━━━━━━━━━━━━\u001b[0m \u001b[32m224.5/224.5 kB\u001b[0m \u001b[31m15.4 MB/s\u001b[0m eta \u001b[36m0:00:00\u001b[0m\n",
            "\u001b[2K   \u001b[90m━━━━━━━━━━━━━━━━━━━━━━━━━━━━━━━━━━━━━━━━\u001b[0m \u001b[32m72.5/72.5 kB\u001b[0m \u001b[31m4.6 MB/s\u001b[0m eta \u001b[36m0:00:00\u001b[0m\n",
            "\u001b[?25h"
          ]
        }
      ],
      "source": [
        "!pip install numpy -q\n",
        "!pip install pandas -q\n",
        "!pip install matplotlib -q\n",
        "!pip install tensorflow -q\n",
        "!pip install opendatasets -q"
      ]
    },
    {
      "cell_type": "code",
      "execution_count": 2,
      "metadata": {
        "id": "SDugdokAdjMl"
      },
      "outputs": [],
      "source": [
        "## import the necessary libraries\n",
        "import numpy as np\n",
        "import pandas as pd\n",
        "import matplotlib.pyplot as plt\n",
        "import tensorflow as tf\n",
        "import time\n",
        "import opendatasets as od"
      ]
    },
    {
      "cell_type": "code",
      "execution_count": 3,
      "metadata": {
        "colab": {
          "base_uri": "https://localhost:8080/"
        },
        "id": "jqmY6p5veQ5e",
        "outputId": "bd96b894-da0a-4349-c469-2ae5ac1e12cc"
      },
      "outputs": [
        {
          "output_type": "stream",
          "name": "stdout",
          "text": [
            "Dataset URL: https://www.kaggle.com/datasets/masoudnickparvar/brain-tumor-mri-dataset\n",
            "Downloading brain-tumor-mri-dataset.zip to ./brain-tumor-mri-dataset\n"
          ]
        },
        {
          "output_type": "stream",
          "name": "stderr",
          "text": [
            "100%|██████████| 149M/149M [00:00<00:00, 1.13GB/s]"
          ]
        },
        {
          "output_type": "stream",
          "name": "stdout",
          "text": [
            "\n"
          ]
        },
        {
          "output_type": "stream",
          "name": "stderr",
          "text": [
            "\n"
          ]
        }
      ],
      "source": [
        "od.download(\"https://www.kaggle.com/datasets/masoudnickparvar/brain-tumor-mri-dataset\")"
      ]
    },
    {
      "cell_type": "code",
      "execution_count": 4,
      "metadata": {
        "id": "xGYOEWDCfnea"
      },
      "outputs": [],
      "source": [
        "## define the batch size and image size\n",
        "BATCH_SIZE=32\n",
        "IMAGE_SIZE=(128,128)"
      ]
    },
    {
      "cell_type": "code",
      "execution_count": 5,
      "metadata": {
        "id": "q9ToHCAchNmh"
      },
      "outputs": [],
      "source": [
        "## Define the train and tes set director path\n",
        "train_dir=\"/content/brain-tumor-mri-dataset/Training\"\n",
        "test_dir=\"/content/brain-tumor-mri-dataset/Testing\""
      ]
    },
    {
      "cell_type": "code",
      "execution_count": 6,
      "metadata": {
        "id": "sHCYJhmah1Xd",
        "colab": {
          "base_uri": "https://localhost:8080/"
        },
        "outputId": "95e76ef9-9968-44ed-9c13-b681d1c3217b"
      },
      "outputs": [
        {
          "output_type": "stream",
          "name": "stdout",
          "text": [
            "Found 5712 files belonging to 4 classes.\n",
            "Using 5141 files for training.\n",
            "Found 5712 files belonging to 4 classes.\n",
            "Using 571 files for validation.\n"
          ]
        }
      ],
      "source": [
        "## split the train set into train set and  validation set\n",
        "\n",
        "## define the batch size and image size\n",
        "BATCH_SIZE=32\n",
        "IMAGE_SIZE=(128,128)\n",
        "\n",
        "## Define the train and tes set director path\n",
        "train_dir=\"/content/brain-tumor-mri-dataset/Training\"\n",
        "test_dir=\"/content/brain-tumor-mri-dataset/Testing\"\n",
        "\n",
        "train_set=tf.keras.utils.image_dataset_from_directory(train_dir,\n",
        "                                                      batch_size=BATCH_SIZE,\n",
        "                                                      image_size=IMAGE_SIZE,\n",
        "                                                      subset='training',\n",
        "                                                      validation_split=0.1,\n",
        "                                                      seed=42)\n",
        "validation_set=tf.keras.utils.image_dataset_from_directory(train_dir,\n",
        "                                                           batch_size=BATCH_SIZE,\n",
        "                                                           image_size=IMAGE_SIZE,\n",
        "                                                           subset='validation',\n",
        "                                                           validation_split=0.1,\n",
        "                                                           seed=42\n",
        "                                                           )"
      ]
    },
    {
      "cell_type": "code",
      "execution_count": 7,
      "metadata": {
        "id": "xzDJuZ1ElfG3",
        "colab": {
          "base_uri": "https://localhost:8080/"
        },
        "outputId": "37cb7295-5001-4aaa-96c0-999b5ad3bb8d"
      },
      "outputs": [
        {
          "output_type": "stream",
          "name": "stdout",
          "text": [
            "Found 1311 files belonging to 4 classes.\n"
          ]
        }
      ],
      "source": [
        "## Load the test set\n",
        "\n",
        "test_set=tf.keras.utils.image_dataset_from_directory(test_dir,\n",
        "                                                           batch_size=BATCH_SIZE,\n",
        "                                                           image_size=IMAGE_SIZE,\n",
        "                                                           )"
      ]
    },
    {
      "cell_type": "code",
      "execution_count": 8,
      "metadata": {
        "id": "q_5_lSnWmLN3"
      },
      "outputs": [],
      "source": [
        "## Get the target values"
      ]
    },
    {
      "cell_type": "code",
      "execution_count": 9,
      "metadata": {
        "id": "TQZNorujnLDY",
        "colab": {
          "base_uri": "https://localhost:8080/"
        },
        "outputId": "1dd7a21e-dc17-424a-ca37-b16791e99ff1"
      },
      "outputs": [
        {
          "output_type": "execute_result",
          "data": {
            "text/plain": [
              "['glioma', 'meningioma', 'notumor', 'pituitary']"
            ]
          },
          "metadata": {},
          "execution_count": 9
        }
      ],
      "source": [
        "class_names=train_set.class_names\n",
        "class_names"
      ]
    },
    {
      "cell_type": "code",
      "execution_count": 10,
      "metadata": {
        "id": "XgQ2WM-pnRW1"
      },
      "outputs": [],
      "source": [
        "## Look at the one batch"
      ]
    },
    {
      "cell_type": "code",
      "execution_count": 11,
      "metadata": {
        "id": "KhTQhW_AoKOq",
        "colab": {
          "base_uri": "https://localhost:8080/"
        },
        "outputId": "ff18fe6f-2148-4f9c-d651-748882751d9b"
      },
      "outputs": [
        {
          "output_type": "stream",
          "name": "stdout",
          "text": [
            "(32, 128, 128, 3)\n",
            "(32,)\n"
          ]
        }
      ],
      "source": [
        "for image_size, label_batch in train_set.take(1):\n",
        "  print(image_size.shape)\n",
        "  print(label_batch.shape)"
      ]
    },
    {
      "cell_type": "code",
      "execution_count": 12,
      "metadata": {
        "id": "8ndDahYKoVXF",
        "colab": {
          "base_uri": "https://localhost:8080/",
          "height": 360
        },
        "outputId": "f6404350-e0f4-495c-95dc-efa8499411d6"
      },
      "outputs": [
        {
          "output_type": "display_data",
          "data": {
            "text/plain": [
              "<Figure size 1000x400 with 10 Axes>"
            ],
            "image/png": "[encoded data removed]"
          },
          "metadata": {}
        }
      ],
      "source": [
        "## Plot the data sample\n",
        "plt.figure(figsize=(10,4))\n",
        "for image,label in train_set.take(1):\n",
        "  for i in range(10):\n",
        "    ax=plt.subplot(2,5,i+1)\n",
        "    plt.imshow(image[i].numpy().astype(\"uint8\"))\n",
        "    plt.title(class_names[label[i]])\n",
        "    plt.axis('off')"
      ]
    },
    {
      "cell_type": "code",
      "execution_count": 13,
      "metadata": {
        "id": "99Eq3OGqpD9G",
        "colab": {
          "base_uri": "https://localhost:8080/"
        },
        "outputId": "71e62503-2fbe-4c39-d10e-9dcc6d295994"
      },
      "outputs": [
        {
          "output_type": "stream",
          "name": "stdout",
          "text": [
            "tf.Tensor(\n",
            "[[[[0.   0.   0.  ]\n",
            "   [0.   0.   0.  ]\n",
            "   [0.   0.   0.  ]\n",
            "   ...\n",
            "   [0.   0.   0.  ]\n",
            "   [0.   0.   0.  ]\n",
            "   [0.   0.   0.  ]]\n",
            "\n",
            "  [[0.   0.   0.  ]\n",
            "   [0.   0.   0.  ]\n",
            "   [0.5  0.5  0.5 ]\n",
            "   ...\n",
            "   [0.5  0.5  0.5 ]\n",
            "   [0.   0.   0.  ]\n",
            "   [0.   0.   0.  ]]\n",
            "\n",
            "  [[0.   0.   0.  ]\n",
            "   [0.   0.   0.  ]\n",
            "   [0.   0.   0.  ]\n",
            "   ...\n",
            "   [1.   1.   1.  ]\n",
            "   [0.   0.   0.  ]\n",
            "   [0.   0.   0.  ]]\n",
            "\n",
            "  ...\n",
            "\n",
            "  [[0.   0.   0.  ]\n",
            "   [0.   0.   0.  ]\n",
            "   [1.5  1.5  1.5 ]\n",
            "   ...\n",
            "   [5.25 5.25 5.25]\n",
            "   [0.   0.   0.  ]\n",
            "   [0.   0.   0.  ]]\n",
            "\n",
            "  [[0.   0.   0.  ]\n",
            "   [0.   0.   0.  ]\n",
            "   [0.75 0.75 0.75]\n",
            "   ...\n",
            "   [0.5  0.5  0.5 ]\n",
            "   [0.   0.   0.  ]\n",
            "   [0.   0.   0.  ]]\n",
            "\n",
            "  [[0.   0.   0.  ]\n",
            "   [0.   0.   0.  ]\n",
            "   [0.5  0.5  0.5 ]\n",
            "   ...\n",
            "   [0.   0.   0.  ]\n",
            "   [0.   0.   0.  ]\n",
            "   [0.   0.   0.  ]]]\n",
            "\n",
            "\n",
            " [[[0.   0.   0.  ]\n",
            "   [0.   0.   0.  ]\n",
            "   [0.   0.   0.  ]\n",
            "   ...\n",
            "   [0.   0.   0.  ]\n",
            "   [0.   0.   0.  ]\n",
            "   [0.   0.   0.  ]]\n",
            "\n",
            "  [[0.   0.   0.  ]\n",
            "   [0.   0.   0.  ]\n",
            "   [0.   0.   0.  ]\n",
            "   ...\n",
            "   [0.   0.   0.  ]\n",
            "   [0.   0.   0.  ]\n",
            "   [0.   0.   0.  ]]\n",
            "\n",
            "  [[0.   0.   0.  ]\n",
            "   [0.   0.   0.  ]\n",
            "   [0.   0.   0.  ]\n",
            "   ...\n",
            "   [0.   0.   0.  ]\n",
            "   [0.   0.   0.  ]\n",
            "   [0.   0.   0.  ]]\n",
            "\n",
            "  ...\n",
            "\n",
            "  [[0.   0.   0.  ]\n",
            "   [0.   0.   0.  ]\n",
            "   [0.   0.   0.  ]\n",
            "   ...\n",
            "   [0.   0.   0.  ]\n",
            "   [0.   0.   0.  ]\n",
            "   [0.   0.   0.  ]]\n",
            "\n",
            "  [[0.   0.   0.  ]\n",
            "   [0.   0.   0.  ]\n",
            "   [0.   0.   0.  ]\n",
            "   ...\n",
            "   [0.   0.   0.  ]\n",
            "   [0.   0.   0.  ]\n",
            "   [0.   0.   0.  ]]\n",
            "\n",
            "  [[0.   0.   0.  ]\n",
            "   [0.   0.   0.  ]\n",
            "   [0.   0.   0.  ]\n",
            "   ...\n",
            "   [0.   0.   0.  ]\n",
            "   [0.   0.   0.  ]\n",
            "   [0.   0.   0.  ]]]\n",
            "\n",
            "\n",
            " [[[0.   0.   0.  ]\n",
            "   [0.   0.   0.  ]\n",
            "   [0.   0.   0.  ]\n",
            "   ...\n",
            "   [0.   0.   0.  ]\n",
            "   [0.   0.   0.  ]\n",
            "   [0.   0.   0.  ]]\n",
            "\n",
            "  [[0.   0.   0.  ]\n",
            "   [0.   0.   0.  ]\n",
            "   [0.   0.   0.  ]\n",
            "   ...\n",
            "   [0.   0.   0.  ]\n",
            "   [0.   0.   0.  ]\n",
            "   [0.   0.   0.  ]]\n",
            "\n",
            "  [[0.   0.   0.  ]\n",
            "   [0.   0.   0.  ]\n",
            "   [0.   0.   0.  ]\n",
            "   ...\n",
            "   [0.   0.   0.  ]\n",
            "   [0.   0.   0.  ]\n",
            "   [0.   0.   0.  ]]\n",
            "\n",
            "  ...\n",
            "\n",
            "  [[0.   0.   0.  ]\n",
            "   [0.   0.   0.  ]\n",
            "   [0.   0.   0.  ]\n",
            "   ...\n",
            "   [0.   0.   0.  ]\n",
            "   [0.   0.   0.  ]\n",
            "   [0.   0.   0.  ]]\n",
            "\n",
            "  [[0.   0.   0.  ]\n",
            "   [0.   0.   0.  ]\n",
            "   [0.   0.   0.  ]\n",
            "   ...\n",
            "   [0.   0.   0.  ]\n",
            "   [0.   0.   0.  ]\n",
            "   [0.   0.   0.  ]]\n",
            "\n",
            "  [[0.   0.   0.  ]\n",
            "   [0.   0.   0.  ]\n",
            "   [0.   0.   0.  ]\n",
            "   ...\n",
            "   [0.   0.   0.  ]\n",
            "   [0.   0.   0.  ]\n",
            "   [0.   0.   0.  ]]]\n",
            "\n",
            "\n",
            " ...\n",
            "\n",
            "\n",
            " [[[0.   0.   0.  ]\n",
            "   [0.   0.   0.  ]\n",
            "   [0.   0.   0.  ]\n",
            "   ...\n",
            "   [0.   0.   0.  ]\n",
            "   [0.   0.   0.  ]\n",
            "   [0.   0.   0.  ]]\n",
            "\n",
            "  [[0.   0.   0.  ]\n",
            "   [0.   0.   0.  ]\n",
            "   [0.   0.   0.  ]\n",
            "   ...\n",
            "   [0.   0.   0.  ]\n",
            "   [0.   0.   0.  ]\n",
            "   [0.   0.   0.  ]]\n",
            "\n",
            "  [[0.   0.   0.  ]\n",
            "   [0.   0.   0.  ]\n",
            "   [0.   0.   0.  ]\n",
            "   ...\n",
            "   [0.   0.   0.  ]\n",
            "   [0.   0.   0.  ]\n",
            "   [0.   0.   0.  ]]\n",
            "\n",
            "  ...\n",
            "\n",
            "  [[0.   0.   0.  ]\n",
            "   [0.   0.   0.  ]\n",
            "   [0.   0.   0.  ]\n",
            "   ...\n",
            "   [0.   0.   0.  ]\n",
            "   [0.   0.   0.  ]\n",
            "   [0.   0.   0.  ]]\n",
            "\n",
            "  [[0.   0.   0.  ]\n",
            "   [0.   0.   0.  ]\n",
            "   [0.   0.   0.  ]\n",
            "   ...\n",
            "   [0.   0.   0.  ]\n",
            "   [0.   0.   0.  ]\n",
            "   [0.   0.   0.  ]]\n",
            "\n",
            "  [[0.   0.   0.  ]\n",
            "   [0.   0.   0.  ]\n",
            "   [0.   0.   0.  ]\n",
            "   ...\n",
            "   [0.   0.   0.  ]\n",
            "   [0.   0.   0.  ]\n",
            "   [0.   0.   0.  ]]]\n",
            "\n",
            "\n",
            " [[[0.   0.   0.  ]\n",
            "   [0.   0.   0.  ]\n",
            "   [0.   0.   0.  ]\n",
            "   ...\n",
            "   [0.   0.   0.  ]\n",
            "   [0.   0.   0.  ]\n",
            "   [0.   0.   0.  ]]\n",
            "\n",
            "  [[0.   0.   0.  ]\n",
            "   [0.   0.   0.  ]\n",
            "   [0.   0.   0.  ]\n",
            "   ...\n",
            "   [0.   0.   0.  ]\n",
            "   [0.   0.   0.  ]\n",
            "   [0.   0.   0.  ]]\n",
            "\n",
            "  [[0.   0.   0.  ]\n",
            "   [0.   0.   0.  ]\n",
            "   [2.   2.   2.  ]\n",
            "   ...\n",
            "   [0.   0.   0.  ]\n",
            "   [0.   0.   0.  ]\n",
            "   [0.   0.   0.  ]]\n",
            "\n",
            "  ...\n",
            "\n",
            "  [[0.   0.   0.  ]\n",
            "   [0.   0.   0.  ]\n",
            "   [2.25 2.25 2.25]\n",
            "   ...\n",
            "   [0.75 0.75 0.75]\n",
            "   [0.   0.   0.  ]\n",
            "   [0.   0.   0.  ]]\n",
            "\n",
            "  [[0.   0.   0.  ]\n",
            "   [0.   0.   0.  ]\n",
            "   [0.   0.   0.  ]\n",
            "   ...\n",
            "   [0.   0.   0.  ]\n",
            "   [0.   0.   0.  ]\n",
            "   [0.   0.   0.  ]]\n",
            "\n",
            "  [[0.   0.   0.  ]\n",
            "   [0.   0.   0.  ]\n",
            "   [0.   0.   0.  ]\n",
            "   ...\n",
            "   [0.   0.   0.  ]\n",
            "   [0.   0.   0.  ]\n",
            "   [0.   0.   0.  ]]]\n",
            "\n",
            "\n",
            " [[[0.   0.   0.  ]\n",
            "   [0.   0.   0.  ]\n",
            "   [0.   0.   0.  ]\n",
            "   ...\n",
            "   [0.   0.   0.  ]\n",
            "   [0.   0.   0.  ]\n",
            "   [0.   0.   0.  ]]\n",
            "\n",
            "  [[0.   0.   0.  ]\n",
            "   [0.   0.   0.  ]\n",
            "   [1.   1.   1.  ]\n",
            "   ...\n",
            "   [1.   1.   1.  ]\n",
            "   [0.   0.   0.  ]\n",
            "   [0.   0.   0.  ]]\n",
            "\n",
            "  [[0.   0.   0.  ]\n",
            "   [0.   0.   0.  ]\n",
            "   [1.5  1.5  1.5 ]\n",
            "   ...\n",
            "   [2.   2.   2.  ]\n",
            "   [0.5  0.5  0.5 ]\n",
            "   [0.   0.   0.  ]]\n",
            "\n",
            "  ...\n",
            "\n",
            "  [[0.   0.   0.  ]\n",
            "   [0.   0.   0.  ]\n",
            "   [1.5  1.5  1.5 ]\n",
            "   ...\n",
            "   [4.25 4.25 4.25]\n",
            "   [0.   0.   0.  ]\n",
            "   [0.   0.   0.  ]]\n",
            "\n",
            "  [[0.   0.   0.  ]\n",
            "   [0.   0.   0.  ]\n",
            "   [0.5  0.5  0.5 ]\n",
            "   ...\n",
            "   [0.5  0.5  0.5 ]\n",
            "   [0.   0.   0.  ]\n",
            "   [0.   0.   0.  ]]\n",
            "\n",
            "  [[0.   0.   0.  ]\n",
            "   [0.   0.   0.  ]\n",
            "   [0.   0.   0.  ]\n",
            "   ...\n",
            "   [0.   0.   0.  ]\n",
            "   [0.   0.   0.  ]\n",
            "   [0.   0.   0.  ]]]], shape=(32, 128, 128, 3), dtype=float32)\n"
          ]
        }
      ],
      "source": [
        "for image,label in train_set.take(1):\n",
        "  for i in range(1):\n",
        "    print(image)"
      ]
    },
    {
      "cell_type": "code",
      "execution_count": 14,
      "metadata": {
        "id": "2uqFlVqwrsLD"
      },
      "outputs": [],
      "source": [
        "train_data=train_set.map(lambda x,y:(x/255,y))\n",
        "validation_data=validation_set.map(lambda x,y:(x/255,y))\n",
        "test_data=test_set.map(lambda x,y:(x/255,y))"
      ]
    },
    {
      "cell_type": "code",
      "execution_count": 15,
      "metadata": {
        "id": "dlim18--sn_L",
        "colab": {
          "base_uri": "https://localhost:8080/"
        },
        "outputId": "80e8e309-25dd-4f73-91c2-a05587c4c8b3"
      },
      "outputs": [
        {
          "output_type": "stream",
          "name": "stdout",
          "text": [
            "tf.Tensor(\n",
            "[[[[0.   0.   0.  ]\n",
            "   [0.   0.   0.  ]\n",
            "   [0.   0.   0.  ]\n",
            "   ...\n",
            "   [0.   0.   0.  ]\n",
            "   [0.   0.   0.  ]\n",
            "   [0.   0.   0.  ]]\n",
            "\n",
            "  [[1.   1.   1.  ]\n",
            "   [1.   1.   1.  ]\n",
            "   [1.   1.   1.  ]\n",
            "   ...\n",
            "   [0.   0.   0.  ]\n",
            "   [0.   0.   0.  ]\n",
            "   [0.   0.   0.  ]]\n",
            "\n",
            "  [[3.   3.   3.  ]\n",
            "   [3.   3.   3.  ]\n",
            "   [3.   3.   3.  ]\n",
            "   ...\n",
            "   [0.   0.   0.  ]\n",
            "   [1.   1.   1.  ]\n",
            "   [1.   1.   1.  ]]\n",
            "\n",
            "  ...\n",
            "\n",
            "  [[3.   3.   3.  ]\n",
            "   [3.   3.   3.  ]\n",
            "   [1.5  1.5  1.5 ]\n",
            "   ...\n",
            "   [2.   2.   2.  ]\n",
            "   [1.   1.   1.  ]\n",
            "   [1.   1.   1.  ]]\n",
            "\n",
            "  [[1.   1.   1.  ]\n",
            "   [1.   1.   1.  ]\n",
            "   [1.   1.   1.  ]\n",
            "   ...\n",
            "   [0.   0.   0.  ]\n",
            "   [0.   0.   0.  ]\n",
            "   [0.   0.   0.  ]]\n",
            "\n",
            "  [[0.   0.   0.  ]\n",
            "   [0.   0.   0.  ]\n",
            "   [0.   0.   0.  ]\n",
            "   ...\n",
            "   [0.   0.   0.  ]\n",
            "   [0.   0.   0.  ]\n",
            "   [0.   0.   0.  ]]]\n",
            "\n",
            "\n",
            " [[[0.   0.   0.  ]\n",
            "   [0.   0.   0.  ]\n",
            "   [0.   0.   0.  ]\n",
            "   ...\n",
            "   [0.   0.   0.  ]\n",
            "   [0.   0.   0.  ]\n",
            "   [0.   0.   0.  ]]\n",
            "\n",
            "  [[0.   0.   0.  ]\n",
            "   [0.   0.   0.  ]\n",
            "   [0.   0.   0.  ]\n",
            "   ...\n",
            "   [0.   0.   0.  ]\n",
            "   [0.   0.   0.  ]\n",
            "   [0.   0.   0.  ]]\n",
            "\n",
            "  [[0.   0.   0.  ]\n",
            "   [0.   0.   0.  ]\n",
            "   [0.   0.   0.  ]\n",
            "   ...\n",
            "   [0.   0.   0.  ]\n",
            "   [0.   0.   0.  ]\n",
            "   [0.   0.   0.  ]]\n",
            "\n",
            "  ...\n",
            "\n",
            "  [[0.   0.   0.  ]\n",
            "   [0.   0.   0.  ]\n",
            "   [0.   0.   0.  ]\n",
            "   ...\n",
            "   [0.   0.   0.  ]\n",
            "   [0.   0.   0.  ]\n",
            "   [0.   0.   0.  ]]\n",
            "\n",
            "  [[0.   0.   0.  ]\n",
            "   [0.   0.   0.  ]\n",
            "   [0.   0.   0.  ]\n",
            "   ...\n",
            "   [0.   0.   0.  ]\n",
            "   [0.   0.   0.  ]\n",
            "   [0.   0.   0.  ]]\n",
            "\n",
            "  [[0.   0.   0.  ]\n",
            "   [0.   0.   0.  ]\n",
            "   [0.   0.   0.  ]\n",
            "   ...\n",
            "   [0.   0.   0.  ]\n",
            "   [0.   0.   0.  ]\n",
            "   [0.   0.   0.  ]]]\n",
            "\n",
            "\n",
            " [[[0.   0.   0.  ]\n",
            "   [0.   0.   0.  ]\n",
            "   [0.   0.   0.  ]\n",
            "   ...\n",
            "   [0.   0.   0.  ]\n",
            "   [0.   0.   0.  ]\n",
            "   [0.   0.   0.  ]]\n",
            "\n",
            "  [[0.   0.   0.  ]\n",
            "   [0.   0.   0.  ]\n",
            "   [1.   1.   1.  ]\n",
            "   ...\n",
            "   [1.   1.   1.  ]\n",
            "   [0.   0.   0.  ]\n",
            "   [0.   0.   0.  ]]\n",
            "\n",
            "  [[0.   0.   0.  ]\n",
            "   [0.   0.   0.  ]\n",
            "   [1.5  1.5  1.5 ]\n",
            "   ...\n",
            "   [3.   3.   3.  ]\n",
            "   [0.   0.   0.  ]\n",
            "   [0.   0.   0.  ]]\n",
            "\n",
            "  ...\n",
            "\n",
            "  [[0.   0.   0.  ]\n",
            "   [0.   0.   0.  ]\n",
            "   [2.75 2.75 2.75]\n",
            "   ...\n",
            "   [2.   2.   2.  ]\n",
            "   [0.   0.   0.  ]\n",
            "   [0.   0.   0.  ]]\n",
            "\n",
            "  [[0.   0.   0.  ]\n",
            "   [0.   0.   0.  ]\n",
            "   [0.5  0.5  0.5 ]\n",
            "   ...\n",
            "   [1.   1.   1.  ]\n",
            "   [0.   0.   0.  ]\n",
            "   [0.   0.   0.  ]]\n",
            "\n",
            "  [[0.   0.   0.  ]\n",
            "   [0.   0.   0.  ]\n",
            "   [0.   0.   0.  ]\n",
            "   ...\n",
            "   [0.   0.   0.  ]\n",
            "   [0.   0.   0.  ]\n",
            "   [0.   0.   0.  ]]]\n",
            "\n",
            "\n",
            " ...\n",
            "\n",
            "\n",
            " [[[0.   0.   0.  ]\n",
            "   [0.   0.   0.  ]\n",
            "   [0.   0.   0.  ]\n",
            "   ...\n",
            "   [0.   0.   0.  ]\n",
            "   [0.   0.   0.  ]\n",
            "   [0.   0.   0.  ]]\n",
            "\n",
            "  [[0.   0.   0.  ]\n",
            "   [0.   0.   0.  ]\n",
            "   [0.   0.   0.  ]\n",
            "   ...\n",
            "   [0.   0.   0.  ]\n",
            "   [0.   0.   0.  ]\n",
            "   [0.   0.   0.  ]]\n",
            "\n",
            "  [[0.   0.   0.  ]\n",
            "   [0.   0.   0.  ]\n",
            "   [0.   0.   0.  ]\n",
            "   ...\n",
            "   [0.   0.   0.  ]\n",
            "   [0.   0.   0.  ]\n",
            "   [0.   0.   0.  ]]\n",
            "\n",
            "  ...\n",
            "\n",
            "  [[0.   0.   0.  ]\n",
            "   [0.   0.   0.  ]\n",
            "   [0.   0.   0.  ]\n",
            "   ...\n",
            "   [0.   0.   0.  ]\n",
            "   [0.   0.   0.  ]\n",
            "   [0.   0.   0.  ]]\n",
            "\n",
            "  [[0.   0.   0.  ]\n",
            "   [0.   0.   0.  ]\n",
            "   [0.   0.   0.  ]\n",
            "   ...\n",
            "   [0.   0.   0.  ]\n",
            "   [0.   0.   0.  ]\n",
            "   [0.   0.   0.  ]]\n",
            "\n",
            "  [[0.   0.   0.  ]\n",
            "   [0.   0.   0.  ]\n",
            "   [0.   0.   0.  ]\n",
            "   ...\n",
            "   [0.   0.   0.  ]\n",
            "   [0.   0.   0.  ]\n",
            "   [0.   0.   0.  ]]]\n",
            "\n",
            "\n",
            " [[[0.   0.   0.  ]\n",
            "   [0.   0.   0.  ]\n",
            "   [0.   0.   0.  ]\n",
            "   ...\n",
            "   [0.   0.   0.  ]\n",
            "   [0.   0.   0.  ]\n",
            "   [0.   0.   0.  ]]\n",
            "\n",
            "  [[0.   0.   0.  ]\n",
            "   [0.   0.   0.  ]\n",
            "   [0.   0.   0.  ]\n",
            "   ...\n",
            "   [0.   0.   0.  ]\n",
            "   [0.   0.   0.  ]\n",
            "   [0.   0.   0.  ]]\n",
            "\n",
            "  [[0.   0.   0.  ]\n",
            "   [0.   0.   0.  ]\n",
            "   [0.   0.   0.  ]\n",
            "   ...\n",
            "   [0.   0.   0.  ]\n",
            "   [0.   0.   0.  ]\n",
            "   [0.   0.   0.  ]]\n",
            "\n",
            "  ...\n",
            "\n",
            "  [[0.   0.   0.  ]\n",
            "   [0.   0.   0.  ]\n",
            "   [0.   0.   0.  ]\n",
            "   ...\n",
            "   [0.   0.   0.  ]\n",
            "   [0.   0.   0.  ]\n",
            "   [0.   0.   0.  ]]\n",
            "\n",
            "  [[0.   0.   0.  ]\n",
            "   [0.   0.   0.  ]\n",
            "   [0.   0.   0.  ]\n",
            "   ...\n",
            "   [0.   0.   0.  ]\n",
            "   [0.   0.   0.  ]\n",
            "   [0.   0.   0.  ]]\n",
            "\n",
            "  [[0.   0.   0.  ]\n",
            "   [0.   0.   0.  ]\n",
            "   [0.   0.   0.  ]\n",
            "   ...\n",
            "   [0.   0.   0.  ]\n",
            "   [0.   0.   0.  ]\n",
            "   [0.   0.   0.  ]]]\n",
            "\n",
            "\n",
            " [[[0.   0.   0.  ]\n",
            "   [0.   0.   0.  ]\n",
            "   [0.   0.   0.  ]\n",
            "   ...\n",
            "   [0.   0.   0.  ]\n",
            "   [0.   0.   0.  ]\n",
            "   [0.   0.   0.  ]]\n",
            "\n",
            "  [[0.   0.   0.  ]\n",
            "   [0.   0.   0.  ]\n",
            "   [0.   0.   0.  ]\n",
            "   ...\n",
            "   [0.   0.   0.  ]\n",
            "   [0.   0.   0.  ]\n",
            "   [0.   0.   0.  ]]\n",
            "\n",
            "  [[0.   0.   0.  ]\n",
            "   [0.   0.   0.  ]\n",
            "   [0.   0.   0.  ]\n",
            "   ...\n",
            "   [0.   0.   0.  ]\n",
            "   [0.   0.   0.  ]\n",
            "   [0.   0.   0.  ]]\n",
            "\n",
            "  ...\n",
            "\n",
            "  [[0.   0.   0.  ]\n",
            "   [0.   0.   0.  ]\n",
            "   [0.   0.   0.  ]\n",
            "   ...\n",
            "   [0.   0.   0.  ]\n",
            "   [0.   0.   0.  ]\n",
            "   [0.   0.   0.  ]]\n",
            "\n",
            "  [[0.   0.   0.  ]\n",
            "   [0.   0.   0.  ]\n",
            "   [0.   0.   0.  ]\n",
            "   ...\n",
            "   [0.   0.   0.  ]\n",
            "   [0.   0.   0.  ]\n",
            "   [0.   0.   0.  ]]\n",
            "\n",
            "  [[0.   0.   0.  ]\n",
            "   [0.   0.   0.  ]\n",
            "   [0.   0.   0.  ]\n",
            "   ...\n",
            "   [0.   0.   0.  ]\n",
            "   [0.   0.   0.  ]\n",
            "   [0.   0.   0.  ]]]], shape=(32, 128, 128, 3), dtype=float32)\n"
          ]
        }
      ],
      "source": [
        "for image,label in train_set.take(1):\n",
        "  for i in range(1):\n",
        "    print(image)"
      ]
    },
    {
      "cell_type": "code",
      "execution_count": 16,
      "metadata": {
        "id": "PptIz8RxtG69"
      },
      "outputs": [],
      "source": [
        "## Data Augmentation"
      ]
    },
    {
      "cell_type": "code",
      "execution_count": 17,
      "metadata": {
        "id": "CcOkWOqCteRx",
        "colab": {
          "base_uri": "https://localhost:8080/"
        },
        "outputId": "61043d4a-0d0f-4ffa-8150-05887e21036a"
      },
      "outputs": [
        {
          "output_type": "stream",
          "name": "stderr",
          "text": [
            "/usr/local/lib/python3.11/dist-packages/keras/src/layers/preprocessing/tf_data_layer.py:19: UserWarning: Do not pass an `input_shape`/`input_dim` argument to a layer. When using Sequential models, prefer using an `Input(shape)` object as the first layer in the model instead.\n",
            "  super().__init__(**kwargs)\n"
          ]
        }
      ],
      "source": [
        "data_augmentation=tf.keras.Sequential([\n",
        "    tf.keras.layers.RandomFlip(\"horizontal\",input_shape=(128,128,3)),\n",
        "    tf.keras.layers.RandomRotation(0.2),\n",
        "    tf.keras.layers.RandomZoom(0.2)\n",
        "])"
      ]
    },
    {
      "cell_type": "code",
      "execution_count": 18,
      "metadata": {
        "id": "BfPEmt10vPoX"
      },
      "outputs": [],
      "source": [
        "## Build the CNN model\n",
        "\n",
        "model=tf.keras.models.Sequential()\n",
        "model.add(data_augmentation)\n",
        "model.add(tf.keras.layers.Conv2D(32,kernel_size=3, activation='relu'))\n",
        "model.add(tf.keras.layers.MaxPool2D())\n",
        "\n",
        "model.add(tf.keras.layers.Conv2D(64,kernel_size=3, activation='relu'))\n",
        "model.add(tf.keras.layers.MaxPool2D())\n",
        "\n",
        "model.add(tf.keras.layers.Conv2D(128,kernel_size=3, activation='relu'))\n",
        "model.add(tf.keras.layers.MaxPool2D())\n",
        "\n",
        "model.add(tf.keras.layers.Dropout(0.2))\n",
        "model.add(tf.keras.layers.BatchNormalization())\n",
        "\n",
        "model.add(tf.keras.layers.Flatten())\n",
        "\n",
        "model.add(tf.keras.layers.Dense(128,activation='relu'))\n",
        "model.add(tf.keras.layers.Dense(128,activation='relu'))\n",
        "model.add(tf.keras.layers.Dense(32,activation='relu'))\n",
        "\n",
        "model.add(tf.keras.layers.Dense(4,activation='softmax'))"
      ]
    },
    {
      "cell_type": "code",
      "execution_count": 19,
      "metadata": {
        "id": "M2miuYCJw7BB",
        "colab": {
          "base_uri": "https://localhost:8080/",
          "height": 593
        },
        "outputId": "6e693835-9ee0-4bad-8802-edb4d168d8bf"
      },
      "outputs": [
        {
          "output_type": "display_data",
          "data": {
            "text/plain": [
              "\u001b[1mModel: \"sequential_1\"\u001b[0m\n"
            ],
            "text/html": [
              "<pre style=\"white-space:pre;overflow-x:auto;line-height:normal;font-family:Menlo,'DejaVu Sans Mono',consolas,'Courier New',monospace\"><span style=\"font-weight: bold\">Model: \"sequential_1\"</span>\n",
              "</pre>\n"
            ]
          },
          "metadata": {}
        },
        {
          "output_type": "display_data",
          "data": {
            "text/plain": [
              "┏━━━━━━━━━━━━━━━━━━━━━━━━━━━━━━━━━┳━━━━━━━━━━━━━━━━━━━━━━━━┳━━━━━━━━━━━━━━━┓\n",
              "┃\u001b[1m \u001b[0m\u001b[1mLayer (type)                   \u001b[0m\u001b[1m \u001b[0m┃\u001b[1m \u001b[0m\u001b[1mOutput Shape          \u001b[0m\u001b[1m \u001b[0m┃\u001b[1m \u001b[0m\u001b[1m      Param #\u001b[0m\u001b[1m \u001b[0m┃\n",
              "┡━━━━━━━━━━━━━━━━━━━━━━━━━━━━━━━━━╇━━━━━━━━━━━━━━━━━━━━━━━━╇━━━━━━━━━━━━━━━┩\n",
              "│ sequential (\u001b[38;5;33mSequential\u001b[0m)         │ (\u001b[38;5;45mNone\u001b[0m, \u001b[38;5;34m128\u001b[0m, \u001b[38;5;34m128\u001b[0m, \u001b[38;5;34m3\u001b[0m)    │             \u001b[38;5;34m0\u001b[0m │\n",
              "├─────────────────────────────────┼────────────────────────┼───────────────┤\n",
              "│ conv2d (\u001b[38;5;33mConv2D\u001b[0m)                 │ (\u001b[38;5;45mNone\u001b[0m, \u001b[38;5;34m126\u001b[0m, \u001b[38;5;34m126\u001b[0m, \u001b[38;5;34m32\u001b[0m)   │           \u001b[38;5;34m896\u001b[0m │\n",
              "├─────────────────────────────────┼────────────────────────┼───────────────┤\n",
              "│ max_pooling2d (\u001b[38;5;33mMaxPooling2D\u001b[0m)    │ (\u001b[38;5;45mNone\u001b[0m, \u001b[38;5;34m63\u001b[0m, \u001b[38;5;34m63\u001b[0m, \u001b[38;5;34m32\u001b[0m)     │             \u001b[38;5;34m0\u001b[0m │\n",
              "├─────────────────────────────────┼────────────────────────┼───────────────┤\n",
              "│ conv2d_1 (\u001b[38;5;33mConv2D\u001b[0m)               │ (\u001b[38;5;45mNone\u001b[0m, \u001b[38;5;34m61\u001b[0m, \u001b[38;5;34m61\u001b[0m, \u001b[38;5;34m64\u001b[0m)     │        \u001b[38;5;34m18,496\u001b[0m │\n",
              "├─────────────────────────────────┼────────────────────────┼───────────────┤\n",
              "│ max_pooling2d_1 (\u001b[38;5;33mMaxPooling2D\u001b[0m)  │ (\u001b[38;5;45mNone\u001b[0m, \u001b[38;5;34m30\u001b[0m, \u001b[38;5;34m30\u001b[0m, \u001b[38;5;34m64\u001b[0m)     │             \u001b[38;5;34m0\u001b[0m │\n",
              "├─────────────────────────────────┼────────────────────────┼───────────────┤\n",
              "│ conv2d_2 (\u001b[38;5;33mConv2D\u001b[0m)               │ (\u001b[38;5;45mNone\u001b[0m, \u001b[38;5;34m28\u001b[0m, \u001b[38;5;34m28\u001b[0m, \u001b[38;5;34m128\u001b[0m)    │        \u001b[38;5;34m73,856\u001b[0m │\n",
              "├─────────────────────────────────┼────────────────────────┼───────────────┤\n",
              "│ max_pooling2d_2 (\u001b[38;5;33mMaxPooling2D\u001b[0m)  │ (\u001b[38;5;45mNone\u001b[0m, \u001b[38;5;34m14\u001b[0m, \u001b[38;5;34m14\u001b[0m, \u001b[38;5;34m128\u001b[0m)    │             \u001b[38;5;34m0\u001b[0m │\n",
              "├─────────────────────────────────┼────────────────────────┼───────────────┤\n",
              "│ dropout (\u001b[38;5;33mDropout\u001b[0m)               │ (\u001b[38;5;45mNone\u001b[0m, \u001b[38;5;34m14\u001b[0m, \u001b[38;5;34m14\u001b[0m, \u001b[38;5;34m128\u001b[0m)    │             \u001b[38;5;34m0\u001b[0m │\n",
              "├─────────────────────────────────┼────────────────────────┼───────────────┤\n",
              "│ batch_normalization             │ (\u001b[38;5;45mNone\u001b[0m, \u001b[38;5;34m14\u001b[0m, \u001b[38;5;34m14\u001b[0m, \u001b[38;5;34m128\u001b[0m)    │           \u001b[38;5;34m512\u001b[0m │\n",
              "│ (\u001b[38;5;33mBatchNormalization\u001b[0m)            │                        │               │\n",
              "├─────────────────────────────────┼────────────────────────┼───────────────┤\n",
              "│ flatten (\u001b[38;5;33mFlatten\u001b[0m)               │ (\u001b[38;5;45mNone\u001b[0m, \u001b[38;5;34m25088\u001b[0m)          │             \u001b[38;5;34m0\u001b[0m │\n",
              "├─────────────────────────────────┼────────────────────────┼───────────────┤\n",
              "│ dense (\u001b[38;5;33mDense\u001b[0m)                   │ (\u001b[38;5;45mNone\u001b[0m, \u001b[38;5;34m128\u001b[0m)            │     \u001b[38;5;34m3,211,392\u001b[0m │\n",
              "├─────────────────────────────────┼────────────────────────┼───────────────┤\n",
              "│ dense_1 (\u001b[38;5;33mDense\u001b[0m)                 │ (\u001b[38;5;45mNone\u001b[0m, \u001b[38;5;34m128\u001b[0m)            │        \u001b[38;5;34m16,512\u001b[0m │\n",
              "├─────────────────────────────────┼────────────────────────┼───────────────┤\n",
              "│ dense_2 (\u001b[38;5;33mDense\u001b[0m)                 │ (\u001b[38;5;45mNone\u001b[0m, \u001b[38;5;34m32\u001b[0m)             │         \u001b[38;5;34m4,128\u001b[0m │\n",
              "├─────────────────────────────────┼────────────────────────┼───────────────┤\n",
              "│ dense_3 (\u001b[38;5;33mDense\u001b[0m)                 │ (\u001b[38;5;45mNone\u001b[0m, \u001b[38;5;34m4\u001b[0m)              │           \u001b[38;5;34m132\u001b[0m │\n",
              "└─────────────────────────────────┴────────────────────────┴───────────────┘\n"
            ],
            "text/html": [
              "<pre style=\"white-space:pre;overflow-x:auto;line-height:normal;font-family:Menlo,'DejaVu Sans Mono',consolas,'Courier New',monospace\">┏━━━━━━━━━━━━━━━━━━━━━━━━━━━━━━━━━┳━━━━━━━━━━━━━━━━━━━━━━━━┳━━━━━━━━━━━━━━━┓\n",
              "┃<span style=\"font-weight: bold\"> Layer (type)                    </span>┃<span style=\"font-weight: bold\"> Output Shape           </span>┃<span style=\"font-weight: bold\">       Param # </span>┃\n",
              "┡━━━━━━━━━━━━━━━━━━━━━━━━━━━━━━━━━╇━━━━━━━━━━━━━━━━━━━━━━━━╇━━━━━━━━━━━━━━━┩\n",
              "│ sequential (<span style=\"color: #0087ff; text-decoration-color: #0087ff\">Sequential</span>)         │ (<span style=\"color: #00d7ff; text-decoration-color: #00d7ff\">None</span>, <span style=\"color: #00af00; text-decoration-color: #00af00\">128</span>, <span style=\"color: #00af00; text-decoration-color: #00af00\">128</span>, <span style=\"color: #00af00; text-decoration-color: #00af00\">3</span>)    │             <span style=\"color: #00af00; text-decoration-color: #00af00\">0</span> │\n",
              "├─────────────────────────────────┼────────────────────────┼───────────────┤\n",
              "│ conv2d (<span style=\"color: #0087ff; text-decoration-color: #0087ff\">Conv2D</span>)                 │ (<span style=\"color: #00d7ff; text-decoration-color: #00d7ff\">None</span>, <span style=\"color: #00af00; text-decoration-color: #00af00\">126</span>, <span style=\"color: #00af00; text-decoration-color: #00af00\">126</span>, <span style=\"color: #00af00; text-decoration-color: #00af00\">32</span>)   │           <span style=\"color: #00af00; text-decoration-color: #00af00\">896</span> │\n",
              "├─────────────────────────────────┼────────────────────────┼───────────────┤\n",
              "│ max_pooling2d (<span style=\"color: #0087ff; text-decoration-color: #0087ff\">MaxPooling2D</span>)    │ (<span style=\"color: #00d7ff; text-decoration-color: #00d7ff\">None</span>, <span style=\"color: #00af00; text-decoration-color: #00af00\">63</span>, <span style=\"color: #00af00; text-decoration-color: #00af00\">63</span>, <span style=\"color: #00af00; text-decoration-color: #00af00\">32</span>)     │             <span style=\"color: #00af00; text-decoration-color: #00af00\">0</span> │\n",
              "├─────────────────────────────────┼────────────────────────┼───────────────┤\n",
              "│ conv2d_1 (<span style=\"color: #0087ff; text-decoration-color: #0087ff\">Conv2D</span>)               │ (<span style=\"color: #00d7ff; text-decoration-color: #00d7ff\">None</span>, <span style=\"color: #00af00; text-decoration-color: #00af00\">61</span>, <span style=\"color: #00af00; text-decoration-color: #00af00\">61</span>, <span style=\"color: #00af00; text-decoration-color: #00af00\">64</span>)     │        <span style=\"color: #00af00; text-decoration-color: #00af00\">18,496</span> │\n",
              "├─────────────────────────────────┼────────────────────────┼───────────────┤\n",
              "│ max_pooling2d_1 (<span style=\"color: #0087ff; text-decoration-color: #0087ff\">MaxPooling2D</span>)  │ (<span style=\"color: #00d7ff; text-decoration-color: #00d7ff\">None</span>, <span style=\"color: #00af00; text-decoration-color: #00af00\">30</span>, <span style=\"color: #00af00; text-decoration-color: #00af00\">30</span>, <span style=\"color: #00af00; text-decoration-color: #00af00\">64</span>)     │             <span style=\"color: #00af00; text-decoration-color: #00af00\">0</span> │\n",
              "├─────────────────────────────────┼────────────────────────┼───────────────┤\n",
              "│ conv2d_2 (<span style=\"color: #0087ff; text-decoration-color: #0087ff\">Conv2D</span>)               │ (<span style=\"color: #00d7ff; text-decoration-color: #00d7ff\">None</span>, <span style=\"color: #00af00; text-decoration-color: #00af00\">28</span>, <span style=\"color: #00af00; text-decoration-color: #00af00\">28</span>, <span style=\"color: #00af00; text-decoration-color: #00af00\">128</span>)    │        <span style=\"color: #00af00; text-decoration-color: #00af00\">73,856</span> │\n",
              "├─────────────────────────────────┼────────────────────────┼───────────────┤\n",
              "│ max_pooling2d_2 (<span style=\"color: #0087ff; text-decoration-color: #0087ff\">MaxPooling2D</span>)  │ (<span style=\"color: #00d7ff; text-decoration-color: #00d7ff\">None</span>, <span style=\"color: #00af00; text-decoration-color: #00af00\">14</span>, <span style=\"color: #00af00; text-decoration-color: #00af00\">14</span>, <span style=\"color: #00af00; text-decoration-color: #00af00\">128</span>)    │             <span style=\"color: #00af00; text-decoration-color: #00af00\">0</span> │\n",
              "├─────────────────────────────────┼────────────────────────┼───────────────┤\n",
              "│ dropout (<span style=\"color: #0087ff; text-decoration-color: #0087ff\">Dropout</span>)               │ (<span style=\"color: #00d7ff; text-decoration-color: #00d7ff\">None</span>, <span style=\"color: #00af00; text-decoration-color: #00af00\">14</span>, <span style=\"color: #00af00; text-decoration-color: #00af00\">14</span>, <span style=\"color: #00af00; text-decoration-color: #00af00\">128</span>)    │             <span style=\"color: #00af00; text-decoration-color: #00af00\">0</span> │\n",
              "├─────────────────────────────────┼────────────────────────┼───────────────┤\n",
              "│ batch_normalization             │ (<span style=\"color: #00d7ff; text-decoration-color: #00d7ff\">None</span>, <span style=\"color: #00af00; text-decoration-color: #00af00\">14</span>, <span style=\"color: #00af00; text-decoration-color: #00af00\">14</span>, <span style=\"color: #00af00; text-decoration-color: #00af00\">128</span>)    │           <span style=\"color: #00af00; text-decoration-color: #00af00\">512</span> │\n",
              "│ (<span style=\"color: #0087ff; text-decoration-color: #0087ff\">BatchNormalization</span>)            │                        │               │\n",
              "├─────────────────────────────────┼────────────────────────┼───────────────┤\n",
              "│ flatten (<span style=\"color: #0087ff; text-decoration-color: #0087ff\">Flatten</span>)               │ (<span style=\"color: #00d7ff; text-decoration-color: #00d7ff\">None</span>, <span style=\"color: #00af00; text-decoration-color: #00af00\">25088</span>)          │             <span style=\"color: #00af00; text-decoration-color: #00af00\">0</span> │\n",
              "├─────────────────────────────────┼────────────────────────┼───────────────┤\n",
              "│ dense (<span style=\"color: #0087ff; text-decoration-color: #0087ff\">Dense</span>)                   │ (<span style=\"color: #00d7ff; text-decoration-color: #00d7ff\">None</span>, <span style=\"color: #00af00; text-decoration-color: #00af00\">128</span>)            │     <span style=\"color: #00af00; text-decoration-color: #00af00\">3,211,392</span> │\n",
              "├─────────────────────────────────┼────────────────────────┼───────────────┤\n",
              "│ dense_1 (<span style=\"color: #0087ff; text-decoration-color: #0087ff\">Dense</span>)                 │ (<span style=\"color: #00d7ff; text-decoration-color: #00d7ff\">None</span>, <span style=\"color: #00af00; text-decoration-color: #00af00\">128</span>)            │        <span style=\"color: #00af00; text-decoration-color: #00af00\">16,512</span> │\n",
              "├─────────────────────────────────┼────────────────────────┼───────────────┤\n",
              "│ dense_2 (<span style=\"color: #0087ff; text-decoration-color: #0087ff\">Dense</span>)                 │ (<span style=\"color: #00d7ff; text-decoration-color: #00d7ff\">None</span>, <span style=\"color: #00af00; text-decoration-color: #00af00\">32</span>)             │         <span style=\"color: #00af00; text-decoration-color: #00af00\">4,128</span> │\n",
              "├─────────────────────────────────┼────────────────────────┼───────────────┤\n",
              "│ dense_3 (<span style=\"color: #0087ff; text-decoration-color: #0087ff\">Dense</span>)                 │ (<span style=\"color: #00d7ff; text-decoration-color: #00d7ff\">None</span>, <span style=\"color: #00af00; text-decoration-color: #00af00\">4</span>)              │           <span style=\"color: #00af00; text-decoration-color: #00af00\">132</span> │\n",
              "└─────────────────────────────────┴────────────────────────┴───────────────┘\n",
              "</pre>\n"
            ]
          },
          "metadata": {}
        },
        {
          "output_type": "display_data",
          "data": {
            "text/plain": [
              "\u001b[1m Total params: \u001b[0m\u001b[38;5;34m3,325,924\u001b[0m (12.69 MB)\n"
            ],
            "text/html": [
              "<pre style=\"white-space:pre;overflow-x:auto;line-height:normal;font-family:Menlo,'DejaVu Sans Mono',consolas,'Courier New',monospace\"><span style=\"font-weight: bold\"> Total params: </span><span style=\"color: #00af00; text-decoration-color: #00af00\">3,325,924</span> (12.69 MB)\n",
              "</pre>\n"
            ]
          },
          "metadata": {}
        },
        {
          "output_type": "display_data",
          "data": {
            "text/plain": [
              "\u001b[1m Trainable params: \u001b[0m\u001b[38;5;34m3,325,668\u001b[0m (12.69 MB)\n"
            ],
            "text/html": [
              "<pre style=\"white-space:pre;overflow-x:auto;line-height:normal;font-family:Menlo,'DejaVu Sans Mono',consolas,'Courier New',monospace\"><span style=\"font-weight: bold\"> Trainable params: </span><span style=\"color: #00af00; text-decoration-color: #00af00\">3,325,668</span> (12.69 MB)\n",
              "</pre>\n"
            ]
          },
          "metadata": {}
        },
        {
          "output_type": "display_data",
          "data": {
            "text/plain": [
              "\u001b[1m Non-trainable params: \u001b[0m\u001b[38;5;34m256\u001b[0m (1.00 KB)\n"
            ],
            "text/html": [
              "<pre style=\"white-space:pre;overflow-x:auto;line-height:normal;font-family:Menlo,'DejaVu Sans Mono',consolas,'Courier New',monospace\"><span style=\"font-weight: bold\"> Non-trainable params: </span><span style=\"color: #00af00; text-decoration-color: #00af00\">256</span> (1.00 KB)\n",
              "</pre>\n"
            ]
          },
          "metadata": {}
        }
      ],
      "source": [
        "model.summary()"
      ]
    },
    {
      "cell_type": "code",
      "execution_count": 23,
      "metadata": {
        "id": "JwRCpDRkxcM2"
      },
      "outputs": [],
      "source": [
        "## Complite the model\n",
        "\n",
        "\n",
        "model.compile(optimizer=tf.keras.optimizers.Adam(),\n",
        "              loss=tf.keras.losses.sparse_categorical_crossentropy,\n",
        "              metrics=['accuracy'])"
      ]
    },
    {
      "cell_type": "code",
      "execution_count": 21,
      "metadata": {
        "id": "88toSydLzA3f"
      },
      "outputs": [],
      "source": [
        "## train the CNN architecture model"
      ]
    },
    {
      "cell_type": "code",
      "execution_count": 24,
      "metadata": {
        "id": "bPoubr8yz76v",
        "colab": {
          "base_uri": "https://localhost:8080/"
        },
        "outputId": "21df2eeb-3946-45b9-90c8-97312fd99878"
      },
      "outputs": [
        {
          "output_type": "stream",
          "name": "stdout",
          "text": [
            "Epoch 1/10\n",
            "\u001b[1m161/161\u001b[0m \u001b[32m━━━━━━━━━━━━━━━━━━━━\u001b[0m\u001b[37m\u001b[0m \u001b[1m148s\u001b[0m 903ms/step - accuracy: 0.5758 - loss: 1.1030 - val_accuracy: 0.3170 - val_loss: 4.7403\n",
            "Epoch 2/10\n",
            "\u001b[1m161/161\u001b[0m \u001b[32m━━━━━━━━━━━━━━━━━━━━\u001b[0m\u001b[37m\u001b[0m \u001b[1m141s\u001b[0m 877ms/step - accuracy: 0.7122 - loss: 0.7460 - val_accuracy: 0.7005 - val_loss: 0.8225\n",
            "Epoch 3/10\n",
            "\u001b[1m161/161\u001b[0m \u001b[32m━━━━━━━━━━━━━━━━━━━━\u001b[0m\u001b[37m\u001b[0m \u001b[1m141s\u001b[0m 878ms/step - accuracy: 0.7323 - loss: 0.6735 - val_accuracy: 0.4658 - val_loss: 2.0291\n",
            "Epoch 4/10\n",
            "\u001b[1m161/161\u001b[0m \u001b[32m━━━━━━━━━━━━━━━━━━━━\u001b[0m\u001b[37m\u001b[0m \u001b[1m142s\u001b[0m 882ms/step - accuracy: 0.7611 - loss: 0.5830 - val_accuracy: 0.6095 - val_loss: 1.1616\n",
            "Epoch 5/10\n",
            "\u001b[1m161/161\u001b[0m \u001b[32m━━━━━━━━━━━━━━━━━━━━\u001b[0m\u001b[37m\u001b[0m \u001b[1m141s\u001b[0m 876ms/step - accuracy: 0.7895 - loss: 0.5258 - val_accuracy: 0.6935 - val_loss: 0.7561\n",
            "Epoch 6/10\n",
            "\u001b[1m161/161\u001b[0m \u001b[32m━━━━━━━━━━━━━━━━━━━━\u001b[0m\u001b[37m\u001b[0m \u001b[1m141s\u001b[0m 873ms/step - accuracy: 0.8012 - loss: 0.5047 - val_accuracy: 0.6550 - val_loss: 0.9819\n",
            "Epoch 7/10\n",
            "\u001b[1m161/161\u001b[0m \u001b[32m━━━━━━━━━━━━━━━━━━━━\u001b[0m\u001b[37m\u001b[0m \u001b[1m141s\u001b[0m 875ms/step - accuracy: 0.8070 - loss: 0.4823 - val_accuracy: 0.8231 - val_loss: 0.4941\n",
            "Epoch 8/10\n",
            "\u001b[1m161/161\u001b[0m \u001b[32m━━━━━━━━━━━━━━━━━━━━\u001b[0m\u001b[37m\u001b[0m \u001b[1m140s\u001b[0m 872ms/step - accuracy: 0.8299 - loss: 0.4266 - val_accuracy: 0.6900 - val_loss: 1.0432\n",
            "Epoch 9/10\n",
            "\u001b[1m161/161\u001b[0m \u001b[32m━━━━━━━━━━━━━━━━━━━━\u001b[0m\u001b[37m\u001b[0m \u001b[1m141s\u001b[0m 873ms/step - accuracy: 0.8435 - loss: 0.4111 - val_accuracy: 0.6602 - val_loss: 1.0185\n",
            "Epoch 10/10\n",
            "\u001b[1m161/161\u001b[0m \u001b[32m━━━━━━━━━━━━━━━━━━━━\u001b[0m\u001b[37m\u001b[0m \u001b[1m141s\u001b[0m 876ms/step - accuracy: 0.8446 - loss: 0.4132 - val_accuracy: 0.6567 - val_loss: 0.9903\n"
          ]
        }
      ],
      "source": [
        "start_time=time.time()\n",
        "history=model.fit(train_set,validation_data=validation_set, epochs=10)\n",
        "end_time=time.time()"
      ]
    },
    {
      "cell_type": "code",
      "source": [
        "## plot the  accuracy  and  validation_accuracy\n",
        "fig=plt.figure()\n",
        "plt.plot(history.history['accuracy'], color='teal',label='accuracy')\n",
        "plt.plot(history.history['val_accuracy'], color='orange', label='val_accuracy')\n",
        "plt.suptitle('Accuracy', fontsize=20)\n",
        "plt.legend()\n",
        "plt.show()"
      ],
      "metadata": {
        "id": "b0aiw_ZdOrm_",
        "colab": {
          "base_uri": "https://localhost:8080/",
          "height": 478
        },
        "outputId": "7e97bf81-9b69-47bc-e86e-5604d28eee37"
      },
      "execution_count": 25,
      "outputs": [
        {
          "output_type": "display_data",
          "data": {
            "text/plain": [
              "<Figure size 640x480 with 1 Axes>"
            ],
            "image/png": "[encoded data removed]"
          },
          "metadata": {}
        }
      ]
    },
    {
      "cell_type": "code",
      "source": [
        "## plot the  loss  and  validation_loss\n",
        "fig=plt.figure()\n",
        "plt.plot(history.history['loss'], color='teal',label='loss')\n",
        "plt.plot(history.history['val_loss'], color='orange', label='val_loss')\n",
        "plt.suptitle('Loss', fontsize=20)\n",
        "plt.legend()\n",
        "plt.show()"
      ],
      "metadata": {
        "id": "7JMbbOtGQNm9",
        "colab": {
          "base_uri": "https://localhost:8080/",
          "height": 478
        },
        "outputId": "52e1b2ea-e8d4-444b-8eeb-ed3388aa4e35"
      },
      "execution_count": 26,
      "outputs": [
        {
          "output_type": "display_data",
          "data": {
            "text/plain": [
              "<Figure size 640x480 with 1 Axes>"
            ],
            "image/png": "[encoded data removed]"
          },
          "metadata": {}
        }
      ]
    },
    {
      "cell_type": "code",
      "execution_count": 27,
      "metadata": {
        "id": "PNdChoeK0Syn"
      },
      "outputs": [],
      "source": [
        "## Test the model using fresh test data"
      ]
    },
    {
      "cell_type": "code",
      "source": [
        "for batch in test_set.as_numpy_iterator():\n",
        "  X,y=batch\n",
        "X"
      ],
      "metadata": {
        "colab": {
          "base_uri": "https://localhost:8080/"
        },
        "id": "0aGYC2bA3LGu",
        "outputId": "873836d1-365a-4c87-c97e-867b79a5acae"
      },
      "execution_count": 28,
      "outputs": [
        {
          "output_type": "execute_result",
          "data": {
            "text/plain": [
              "array([[[[ 1.2114868 ,  9.531799  , 27.664612  ],\n",
              "         [ 0.        ,  0.81414795, 25.454773  ],\n",
              "         [ 2.4434204 ,  5.576233  ,  9.779358  ],\n",
              "         ...,\n",
              "         [ 6.        ,  6.        ,  6.        ],\n",
              "         [ 8.54071   ,  8.54071   ,  8.54071   ],\n",
              "         [ 6.453125  ,  6.453125  ,  6.453125  ]],\n",
              "\n",
              "        [[ 0.0814209 ,  7.767273  , 25.900085  ],\n",
              "         [ 0.1796875 ,  5.359375  , 30.        ],\n",
              "         [ 3.3112183 ,  6.2261353 , 10.42926   ],\n",
              "         ...,\n",
              "         [ 6.7113647 ,  6.7113647 ,  6.7113647 ],\n",
              "         [ 8.057556  ,  8.057556  ,  8.057556  ],\n",
              "         [ 5.628296  ,  5.628296  ,  5.628296  ]],\n",
              "\n",
              "        [[ 0.2265625 ,  8.546875  , 26.679688  ],\n",
              "         [ 1.        ,  7.        , 31.640625  ],\n",
              "         [ 4.265625  ,  7.3984375 , 11.6015625 ],\n",
              "         ...,\n",
              "         [ 8.8984375 ,  8.8984375 ,  8.8984375 ],\n",
              "         [11.742615  , 11.742615  , 11.742615  ],\n",
              "         [ 4.427368  ,  4.427368  ,  4.427368  ]],\n",
              "\n",
              "        ...,\n",
              "\n",
              "        [[ 0.        ,  8.3203125 , 26.453125  ],\n",
              "         [ 0.        ,  6.        , 30.640625  ],\n",
              "         [ 7.234375  , 10.3671875 , 14.5703125 ],\n",
              "         ...,\n",
              "         [ 8.584045  ,  8.584045  ,  8.584045  ],\n",
              "         [ 9.6796875 ,  9.6796875 ,  9.6796875 ],\n",
              "         [ 6.0859375 ,  6.0859375 ,  6.0859375 ]],\n",
              "\n",
              "        [[ 0.2265625 ,  8.546875  , 26.679688  ],\n",
              "         [ 1.        ,  7.        , 31.640625  ],\n",
              "         [ 4.8671875 ,  8.        , 12.203125  ],\n",
              "         ...,\n",
              "         [ 6.1328125 ,  6.1328125 ,  6.1328125 ],\n",
              "         [ 8.        ,  8.        ,  8.        ],\n",
              "         [ 6.3203125 ,  6.3203125 ,  6.3203125 ]],\n",
              "\n",
              "        [[ 0.2265625 ,  8.546875  , 26.679688  ],\n",
              "         [ 1.        ,  7.        , 31.640625  ],\n",
              "         [ 4.8671875 ,  8.        , 12.203125  ],\n",
              "         ...,\n",
              "         [ 6.1328125 ,  6.1328125 ,  6.1328125 ],\n",
              "         [ 9.814148  ,  9.814148  ,  9.814148  ],\n",
              "         [ 6.9380493 ,  6.9380493 ,  6.9380493 ]]],\n",
              "\n",
              "\n",
              "       [[[ 0.        ,  0.        ,  0.        ],\n",
              "         [ 0.        ,  0.        ,  0.        ],\n",
              "         [ 0.        ,  0.        ,  0.        ],\n",
              "         ...,\n",
              "         [ 0.        ,  0.        ,  0.        ],\n",
              "         [ 0.        ,  0.        ,  0.        ],\n",
              "         [ 0.        ,  0.        ,  0.        ]],\n",
              "\n",
              "        [[ 0.        ,  0.        ,  0.        ],\n",
              "         [ 0.        ,  0.        ,  0.        ],\n",
              "         [ 0.        ,  0.        ,  0.        ],\n",
              "         ...,\n",
              "         [ 0.        ,  0.        ,  0.        ],\n",
              "         [ 0.        ,  0.        ,  0.        ],\n",
              "         [ 0.        ,  0.        ,  0.        ]],\n",
              "\n",
              "        [[ 0.        ,  0.        ,  0.        ],\n",
              "         [ 0.        ,  0.        ,  0.        ],\n",
              "         [ 0.        ,  0.        ,  0.        ],\n",
              "         ...,\n",
              "         [ 0.        ,  0.        ,  0.        ],\n",
              "         [ 0.        ,  0.        ,  0.        ],\n",
              "         [ 0.        ,  0.        ,  0.        ]],\n",
              "\n",
              "        ...,\n",
              "\n",
              "        [[ 0.        ,  0.        ,  0.        ],\n",
              "         [ 0.        ,  0.        ,  0.        ],\n",
              "         [ 0.        ,  0.        ,  0.        ],\n",
              "         ...,\n",
              "         [ 0.        ,  0.        ,  0.        ],\n",
              "         [ 0.        ,  0.        ,  0.        ],\n",
              "         [ 0.        ,  0.        ,  0.        ]],\n",
              "\n",
              "        [[ 0.        ,  0.        ,  0.        ],\n",
              "         [ 0.        ,  0.        ,  0.        ],\n",
              "         [ 0.        ,  0.        ,  0.        ],\n",
              "         ...,\n",
              "         [ 0.        ,  0.        ,  0.        ],\n",
              "         [ 0.        ,  0.        ,  0.        ],\n",
              "         [ 0.        ,  0.        ,  0.        ]],\n",
              "\n",
              "        [[ 0.        ,  0.        ,  0.        ],\n",
              "         [ 0.        ,  0.        ,  0.        ],\n",
              "         [ 0.        ,  0.        ,  0.        ],\n",
              "         ...,\n",
              "         [ 0.        ,  0.        ,  0.        ],\n",
              "         [ 0.        ,  0.        ,  0.        ],\n",
              "         [ 0.        ,  0.        ,  0.        ]]],\n",
              "\n",
              "\n",
              "       [[[ 0.        ,  0.        ,  0.        ],\n",
              "         [ 0.        ,  0.        ,  0.        ],\n",
              "         [ 0.        ,  0.        ,  0.        ],\n",
              "         ...,\n",
              "         [ 0.        ,  0.        ,  0.        ],\n",
              "         [ 0.        ,  0.        ,  0.        ],\n",
              "         [ 0.        ,  0.        ,  0.        ]],\n",
              "\n",
              "        [[ 0.        ,  0.        ,  0.        ],\n",
              "         [ 0.        ,  0.        ,  0.        ],\n",
              "         [ 0.        ,  0.        ,  0.        ],\n",
              "         ...,\n",
              "         [ 0.        ,  0.        ,  0.        ],\n",
              "         [ 0.        ,  0.        ,  0.        ],\n",
              "         [ 0.        ,  0.        ,  0.        ]],\n",
              "\n",
              "        [[ 0.        ,  0.        ,  0.        ],\n",
              "         [ 0.        ,  0.        ,  0.        ],\n",
              "         [ 0.        ,  0.        ,  0.        ],\n",
              "         ...,\n",
              "         [ 0.        ,  0.        ,  0.        ],\n",
              "         [ 0.        ,  0.        ,  0.        ],\n",
              "         [ 0.        ,  0.        ,  0.        ]],\n",
              "\n",
              "        ...,\n",
              "\n",
              "        [[ 0.        ,  0.        ,  0.        ],\n",
              "         [ 0.        ,  0.        ,  0.        ],\n",
              "         [ 0.        ,  0.        ,  0.        ],\n",
              "         ...,\n",
              "         [ 0.        ,  0.        ,  0.        ],\n",
              "         [ 0.        ,  0.        ,  0.        ],\n",
              "         [ 0.        ,  0.        ,  0.        ]],\n",
              "\n",
              "        [[ 0.        ,  0.        ,  0.        ],\n",
              "         [ 0.        ,  0.        ,  0.        ],\n",
              "         [ 0.        ,  0.        ,  0.        ],\n",
              "         ...,\n",
              "         [ 0.        ,  0.        ,  0.        ],\n",
              "         [ 0.        ,  0.        ,  0.        ],\n",
              "         [ 0.        ,  0.        ,  0.        ]],\n",
              "\n",
              "        [[ 0.        ,  0.        ,  0.        ],\n",
              "         [ 0.        ,  0.        ,  0.        ],\n",
              "         [ 0.        ,  0.        ,  0.        ],\n",
              "         ...,\n",
              "         [ 0.        ,  0.        ,  0.        ],\n",
              "         [ 0.        ,  0.        ,  0.        ],\n",
              "         [ 0.        ,  0.        ,  0.        ]]],\n",
              "\n",
              "\n",
              "       ...,\n",
              "\n",
              "\n",
              "       [[[ 0.        ,  0.        ,  0.        ],\n",
              "         [ 0.        ,  0.        ,  0.        ],\n",
              "         [ 0.        ,  0.        ,  0.        ],\n",
              "         ...,\n",
              "         [ 0.        ,  0.        ,  0.        ],\n",
              "         [ 0.        ,  0.        ,  0.        ],\n",
              "         [ 0.        ,  0.        ,  0.        ]],\n",
              "\n",
              "        [[ 0.        ,  0.        ,  0.        ],\n",
              "         [ 0.        ,  0.        ,  0.        ],\n",
              "         [ 1.        ,  1.        ,  1.        ],\n",
              "         ...,\n",
              "         [ 0.        ,  0.        ,  0.        ],\n",
              "         [ 0.        ,  0.        ,  0.        ],\n",
              "         [ 0.        ,  0.        ,  0.        ]],\n",
              "\n",
              "        [[ 1.        ,  1.        ,  1.        ],\n",
              "         [ 2.        ,  2.        ,  2.        ],\n",
              "         [ 2.        ,  2.        ,  2.        ],\n",
              "         ...,\n",
              "         [ 0.        ,  0.        ,  0.        ],\n",
              "         [ 0.        ,  0.        ,  0.        ],\n",
              "         [ 0.        ,  0.        ,  0.        ]],\n",
              "\n",
              "        ...,\n",
              "\n",
              "        [[ 1.        ,  1.        ,  1.        ],\n",
              "         [ 2.        ,  2.        ,  2.        ],\n",
              "         [ 2.        ,  2.        ,  2.        ],\n",
              "         ...,\n",
              "         [ 2.        ,  2.        ,  2.        ],\n",
              "         [ 1.75      ,  1.75      ,  1.75      ],\n",
              "         [ 0.        ,  0.        ,  0.        ]],\n",
              "\n",
              "        [[ 0.        ,  0.        ,  0.        ],\n",
              "         [ 0.        ,  0.        ,  0.        ],\n",
              "         [ 0.        ,  0.        ,  0.        ],\n",
              "         ...,\n",
              "         [ 0.        ,  0.        ,  0.        ],\n",
              "         [ 0.        ,  0.        ,  0.        ],\n",
              "         [ 0.        ,  0.        ,  0.        ]],\n",
              "\n",
              "        [[ 0.        ,  0.        ,  0.        ],\n",
              "         [ 0.        ,  0.        ,  0.        ],\n",
              "         [ 0.        ,  0.        ,  0.        ],\n",
              "         ...,\n",
              "         [ 0.        ,  0.        ,  0.        ],\n",
              "         [ 0.        ,  0.        ,  0.        ],\n",
              "         [ 0.        ,  0.        ,  0.        ]]],\n",
              "\n",
              "\n",
              "       [[[ 0.        ,  0.        ,  0.        ],\n",
              "         [ 0.        ,  0.        ,  0.        ],\n",
              "         [ 0.        ,  0.        ,  0.        ],\n",
              "         ...,\n",
              "         [ 0.        ,  0.        ,  0.        ],\n",
              "         [ 0.        ,  0.        ,  0.        ],\n",
              "         [ 0.        ,  0.        ,  0.        ]],\n",
              "\n",
              "        [[ 1.        ,  1.        ,  1.        ],\n",
              "         [ 1.        ,  1.        ,  1.        ],\n",
              "         [ 1.        ,  1.        ,  1.        ],\n",
              "         ...,\n",
              "         [ 0.        ,  0.        ,  0.        ],\n",
              "         [ 0.        ,  0.        ,  0.        ],\n",
              "         [ 0.        ,  0.        ,  0.        ]],\n",
              "\n",
              "        [[ 1.        ,  1.        ,  1.        ],\n",
              "         [ 2.        ,  2.        ,  2.        ],\n",
              "         [ 2.        ,  2.        ,  2.        ],\n",
              "         ...,\n",
              "         [ 1.        ,  1.        ,  1.        ],\n",
              "         [ 1.5       ,  1.5       ,  1.5       ],\n",
              "         [ 0.        ,  0.        ,  0.        ]],\n",
              "\n",
              "        ...,\n",
              "\n",
              "        [[ 3.5       ,  3.5       ,  3.5       ],\n",
              "         [ 5.        ,  5.        ,  5.        ],\n",
              "         [ 4.        ,  4.        ,  4.        ],\n",
              "         ...,\n",
              "         [ 1.25      ,  1.25      ,  1.25      ],\n",
              "         [ 2.75      ,  2.75      ,  2.75      ],\n",
              "         [ 1.25      ,  1.25      ,  1.25      ]],\n",
              "\n",
              "        [[ 2.        ,  2.        ,  2.        ],\n",
              "         [ 2.        ,  2.        ,  2.        ],\n",
              "         [ 1.        ,  1.        ,  1.        ],\n",
              "         ...,\n",
              "         [ 0.        ,  0.        ,  0.        ],\n",
              "         [ 0.        ,  0.        ,  0.        ],\n",
              "         [ 0.        ,  0.        ,  0.        ]],\n",
              "\n",
              "        [[ 0.        ,  0.        ,  0.        ],\n",
              "         [ 0.        ,  0.        ,  0.        ],\n",
              "         [ 0.        ,  0.        ,  0.        ],\n",
              "         ...,\n",
              "         [ 0.        ,  0.        ,  0.        ],\n",
              "         [ 0.        ,  0.        ,  0.        ],\n",
              "         [ 0.        ,  0.        ,  0.        ]]],\n",
              "\n",
              "\n",
              "       [[[ 9.        ,  9.        ,  9.        ],\n",
              "         [ 9.        ,  9.        ,  9.        ],\n",
              "         [ 9.        ,  9.        ,  9.        ],\n",
              "         ...,\n",
              "         [ 9.        ,  9.        ,  9.        ],\n",
              "         [ 9.        ,  9.        ,  9.        ],\n",
              "         [ 9.        ,  9.        ,  9.        ]],\n",
              "\n",
              "        [[ 9.        ,  9.        ,  9.        ],\n",
              "         [ 9.        ,  9.        ,  9.        ],\n",
              "         [ 9.        ,  9.        ,  9.        ],\n",
              "         ...,\n",
              "         [ 9.        ,  9.        ,  9.        ],\n",
              "         [ 9.        ,  9.        ,  9.        ],\n",
              "         [ 9.        ,  9.        ,  9.        ]],\n",
              "\n",
              "        [[ 9.        ,  9.        ,  9.        ],\n",
              "         [ 9.        ,  9.        ,  9.        ],\n",
              "         [ 9.        ,  9.        ,  9.        ],\n",
              "         ...,\n",
              "         [ 9.        ,  9.        ,  9.        ],\n",
              "         [ 9.        ,  9.        ,  9.        ],\n",
              "         [ 9.        ,  9.        ,  9.        ]],\n",
              "\n",
              "        ...,\n",
              "\n",
              "        [[ 9.        ,  9.        ,  9.        ],\n",
              "         [ 9.        ,  9.        ,  9.        ],\n",
              "         [ 9.        ,  9.        ,  9.        ],\n",
              "         ...,\n",
              "         [ 9.        ,  9.        ,  9.        ],\n",
              "         [ 9.        ,  9.        ,  9.        ],\n",
              "         [ 9.        ,  9.        ,  9.        ]],\n",
              "\n",
              "        [[ 9.        ,  9.        ,  9.        ],\n",
              "         [ 9.        ,  9.        ,  9.        ],\n",
              "         [ 9.        ,  9.        ,  9.        ],\n",
              "         ...,\n",
              "         [ 9.        ,  9.        ,  9.        ],\n",
              "         [ 9.        ,  9.        ,  9.        ],\n",
              "         [ 9.        ,  9.        ,  9.        ]],\n",
              "\n",
              "        [[ 9.        ,  9.        ,  9.        ],\n",
              "         [ 9.        ,  9.        ,  9.        ],\n",
              "         [ 9.        ,  9.        ,  9.        ],\n",
              "         ...,\n",
              "         [ 9.        ,  9.        ,  9.        ],\n",
              "         [ 9.        ,  9.        ,  9.        ],\n",
              "         [ 9.        ,  9.        ,  9.        ]]]], dtype=float32)"
            ]
          },
          "metadata": {},
          "execution_count": 28
        }
      ]
    },
    {
      "cell_type": "code",
      "source": [
        "predictions=model.predict(X)\n",
        "predictions"
      ],
      "metadata": {
        "id": "A2z28maDJKvH",
        "colab": {
          "base_uri": "https://localhost:8080/"
        },
        "outputId": "47010876-9623-4d8f-8777-d25b8003f792"
      },
      "execution_count": 29,
      "outputs": [
        {
          "output_type": "stream",
          "name": "stdout",
          "text": [
            "\u001b[1m1/1\u001b[0m \u001b[32m━━━━━━━━━━━━━━━━━━━━\u001b[0m\u001b[37m\u001b[0m \u001b[1m0s\u001b[0m 160ms/step\n"
          ]
        },
        {
          "output_type": "execute_result",
          "data": {
            "text/plain": [
              "array([[7.27140389e-07, 1.56662310e-04, 9.98821318e-01, 1.02127146e-03],\n",
              "       [2.58239709e-07, 2.94414326e-03, 9.97055292e-01, 1.86776845e-07],\n",
              "       [6.92924857e-03, 1.53696993e-02, 9.64883447e-01, 1.28176380e-02],\n",
              "       [1.04531989e-06, 4.63096082e-01, 5.05069852e-01, 3.18329893e-02],\n",
              "       [7.36425534e-08, 8.05349438e-04, 9.99194324e-01, 2.70048986e-07],\n",
              "       [1.57685167e-06, 7.15520419e-03, 9.92831647e-01, 1.16315841e-05],\n",
              "       [2.08173704e-04, 5.86088328e-03, 9.91478086e-01, 2.45273486e-03],\n",
              "       [6.98676705e-01, 1.56117991e-01, 6.74603283e-02, 7.77450055e-02],\n",
              "       [1.19892022e-04, 1.88249757e-03, 3.29847746e-02, 9.65012848e-01],\n",
              "       [4.53885086e-02, 5.93202591e-01, 2.97123313e-01, 6.42855391e-02],\n",
              "       [1.75929546e-01, 8.23730528e-01, 1.58916664e-04, 1.81026640e-04],\n",
              "       [5.30633633e-06, 2.73536414e-01, 7.26011038e-01, 4.47294326e-04],\n",
              "       [7.11068151e-06, 2.60894629e-03, 9.97310281e-01, 7.36857255e-05],\n",
              "       [1.05675030e-02, 3.03223848e-01, 5.89042485e-01, 9.71660614e-02],\n",
              "       [1.76126661e-03, 9.28368303e-04, 6.70076683e-02, 9.30302739e-01],\n",
              "       [5.58610111e-02, 1.70336530e-01, 3.93875837e-02, 7.34414876e-01],\n",
              "       [1.51856793e-05, 3.81295686e-03, 9.96141195e-01, 3.05892681e-05],\n",
              "       [2.70748569e-04, 6.68516085e-02, 1.19659841e-01, 8.13217759e-01],\n",
              "       [2.03016654e-01, 1.53714061e-01, 3.62996235e-02, 6.06969774e-01],\n",
              "       [1.21830039e-01, 7.03934133e-01, 6.52287081e-02, 1.09007254e-01],\n",
              "       [1.78735655e-23, 2.60847717e-08, 9.99999940e-01, 1.40554054e-18],\n",
              "       [3.11490680e-07, 2.19440815e-04, 9.99769211e-01, 1.09905241e-05],\n",
              "       [4.09205211e-03, 1.50407683e-02, 9.41931736e-03, 9.71447766e-01],\n",
              "       [7.03871667e-01, 1.61034409e-02, 2.43861899e-01, 3.61628644e-02],\n",
              "       [7.66524764e-08, 1.63157354e-03, 9.98368323e-01, 5.26512842e-08],\n",
              "       [3.77805182e-03, 1.23834074e-01, 8.53248775e-01, 1.91390831e-02],\n",
              "       [4.23475249e-05, 9.36805503e-04, 9.98119652e-01, 9.01222520e-04],\n",
              "       [1.23988531e-04, 5.48672304e-03, 5.41250110e-02, 9.40264285e-01],\n",
              "       [1.07615702e-02, 8.43478274e-03, 5.25594410e-03, 9.75547731e-01],\n",
              "       [1.22992648e-02, 7.63233304e-02, 6.52389765e-01, 2.58987606e-01],\n",
              "       [7.91498337e-07, 3.78598180e-03, 9.96209979e-01, 3.17393801e-06]],\n",
              "      dtype=float32)"
            ]
          },
          "metadata": {},
          "execution_count": 29
        }
      ]
    },
    {
      "cell_type": "code",
      "source": [
        "## Evaluate the performance of the model based on th test data"
      ],
      "metadata": {
        "id": "zGR3DXn2Kdbw"
      },
      "execution_count": 36,
      "outputs": []
    },
    {
      "cell_type": "code",
      "source": [
        "precison=tf.keras.metrics.Precision()\n",
        "recall=tf.keras.metrics.Recall()\n",
        "accuracy=tf.keras.metrics.Accuracy()"
      ],
      "metadata": {
        "id": "IYCKiMiwKkcp"
      },
      "execution_count": 37,
      "outputs": []
    },
    {
      "cell_type": "code",
      "source": [
        "## Make the prediction based on single  value"
      ],
      "metadata": {
        "id": "PWkl1VK4RVNy"
      },
      "execution_count": 30,
      "outputs": []
    },
    {
      "cell_type": "code",
      "source": [
        "predictions[1]"
      ],
      "metadata": {
        "id": "pwguCe7vJQbm",
        "colab": {
          "base_uri": "https://localhost:8080/"
        },
        "outputId": "c2cb28fe-b256-4e98-d5f2-3cefcbce32d2"
      },
      "execution_count": 31,
      "outputs": [
        {
          "output_type": "execute_result",
          "data": {
            "text/plain": [
              "array([2.5823971e-07, 2.9441433e-03, 9.9705529e-01, 1.8677684e-07],\n",
              "      dtype=float32)"
            ]
          },
          "metadata": {},
          "execution_count": 31
        }
      ]
    },
    {
      "cell_type": "code",
      "source": [
        "class_names"
      ],
      "metadata": {
        "id": "iUlkdWUWJ4S4",
        "colab": {
          "base_uri": "https://localhost:8080/"
        },
        "outputId": "8dead39a-aa61-49dc-a3b5-e4d7806d193c"
      },
      "execution_count": 32,
      "outputs": [
        {
          "output_type": "execute_result",
          "data": {
            "text/plain": [
              "['glioma', 'meningioma', 'notumor', 'pituitary']"
            ]
          },
          "metadata": {},
          "execution_count": 32
        }
      ]
    },
    {
      "cell_type": "code",
      "source": [
        "## get the predicted class  index\n",
        "import numpy  as np\n",
        "predicted_index=np.argmax(predictions[1])\n",
        "predicted_index"
      ],
      "metadata": {
        "id": "bLzrC8MsKBCa",
        "colab": {
          "base_uri": "https://localhost:8080/"
        },
        "outputId": "f13c0a71-0fc1-4682-fc77-19b7c2539233"
      },
      "execution_count": 33,
      "outputs": [
        {
          "output_type": "execute_result",
          "data": {
            "text/plain": [
              "np.int64(2)"
            ]
          },
          "metadata": {},
          "execution_count": 33
        }
      ]
    },
    {
      "cell_type": "code",
      "source": [
        "class_name=['glioma','meningioma','notumor', 'pituitary']\n",
        "predicted_class=class_name[predicted_index]\n",
        "print(\"Brain Tumor : \",predicted_class)"
      ],
      "metadata": {
        "id": "FEkUXqwHMVIY",
        "colab": {
          "base_uri": "https://localhost:8080/"
        },
        "outputId": "0d1cfa92-d4fa-409c-8501-28104903e4f7"
      },
      "execution_count": 34,
      "outputs": [
        {
          "output_type": "stream",
          "name": "stdout",
          "text": [
            "Brain Tumor :  notumor\n"
          ]
        }
      ]
    },
    {
      "cell_type": "code",
      "source": [
        "## Evaluvate model performance using all test data"
      ],
      "metadata": {
        "id": "GV8j3Y0zNGG-"
      },
      "execution_count": null,
      "outputs": []
    },
    {
      "cell_type": "code",
      "source": [
        "precision=tf.keras.metrics.Precision()\n",
        "recall=tf.keras.metrics.Recall()"
      ],
      "metadata": {
        "id": "l8rODi1DSL2K"
      },
      "execution_count": null,
      "outputs": []
    },
    {
      "cell_type": "code",
      "source": [
        "#for batch in test_set:\n",
        " # X,y=batch\n",
        " # yhat=model.predict(X)\n",
        " # precision.update_state(y,yhat)\n",
        " # recall.update_state(y,yhat)\n"
      ],
      "metadata": {
        "id": "806E_RcZRNAg"
      },
      "execution_count": null,
      "outputs": []
    },
    {
      "cell_type": "code",
      "source": [
        "## use this model based on the user data"
      ],
      "metadata": {
        "id": "PmaPt68j1KuI"
      },
      "execution_count": null,
      "outputs": []
    },
    {
      "cell_type": "code",
      "source": [
        "!pip install opencv-python"
      ],
      "metadata": {
        "id": "ENYTzUlz3kSz"
      },
      "execution_count": null,
      "outputs": []
    },
    {
      "cell_type": "code",
      "source": [
        "import cv2"
      ],
      "metadata": {
        "id": "RXED11iq3mPt"
      },
      "execution_count": null,
      "outputs": []
    },
    {
      "cell_type": "code",
      "source": [
        "image=cv2.imread(\"/content/brain-tumor-mri-dataset/Testing/pituitary/Te-piTr_0003.jpg\")\n",
        "plt.imshow(image)\n",
        "plt.show()"
      ],
      "metadata": {
        "id": "NSMX8Bub3sCo"
      },
      "execution_count": null,
      "outputs": []
    },
    {
      "cell_type": "code",
      "source": [
        "\n",
        "## data preprocessing"
      ],
      "metadata": {
        "id": "Gu1z9m4_4oHU"
      },
      "execution_count": null,
      "outputs": []
    },
    {
      "cell_type": "code",
      "source": [
        "resized_image=tf.image.resize(image,IMAGE_SIZE)\n",
        "#scaled_image=resized_image/255"
      ],
      "metadata": {
        "id": "4OLpUD5m6H6P"
      },
      "execution_count": null,
      "outputs": []
    },
    {
      "cell_type": "code",
      "source": [
        "resized_image"
      ],
      "metadata": {
        "id": "odYcQXkQ5HwJ"
      },
      "execution_count": null,
      "outputs": []
    },
    {
      "cell_type": "code",
      "source": [
        "#scaled_image"
      ],
      "metadata": {
        "id": "KBNrJzb85S-6"
      },
      "execution_count": null,
      "outputs": []
    },
    {
      "cell_type": "code",
      "source": [
        "## expand the diminesion of image"
      ],
      "metadata": {
        "id": "V37IQFSw687G"
      },
      "execution_count": null,
      "outputs": []
    },
    {
      "cell_type": "code",
      "source": [
        "user_image=np.expand_dims(resized_image,0).shape\n",
        "user_image"
      ],
      "metadata": {
        "id": "898J3ULI7TgA"
      },
      "execution_count": null,
      "outputs": []
    },
    {
      "cell_type": "code",
      "source": [
        "\n",
        "predictions_new=model.predict(np.expand_dims(resized_image,0))\n",
        "predictions_new"
      ],
      "metadata": {
        "id": "EFd1Qq_g7axS"
      },
      "execution_count": null,
      "outputs": []
    },
    {
      "cell_type": "code",
      "source": [
        "\n",
        "## get the predicted class  index\n",
        "import numpy  as np\n",
        "predicted_index_new=np.argmax(predictions_new)\n",
        "predicted_index_new"
      ],
      "metadata": {
        "id": "iuSNs7XY8EN5"
      },
      "execution_count": null,
      "outputs": []
    },
    {
      "cell_type": "code",
      "source": [
        "\n",
        "class_name=['glioma','meningeoma''notumor', 'pituitary']\n",
        "predicted_class_new=class_name[predicted_index_new]\n",
        "print(\"Brain Tumor : \",predicted_class_new)"
      ],
      "metadata": {
        "id": "_w-X6m488VHu"
      },
      "execution_count": null,
      "outputs": []
    },
    {
      "cell_type": "code",
      "source": [],
      "metadata": {
        "id": "SwpsSsQ-xjqI"
      },
      "execution_count": null,
      "outputs": []
    }
  ],
  "metadata": {
    "accelerator": "TPU",
    "colab": {
      "gpuType": "V28",
      "provenance": [],
      "authorship_tag": "ABX9TyPT+qWts+J90cxL5S0MVAjH",
      "include_colab_link": true
    },
    "kernelspec": {
      "display_name": "Python 3",
      "name": "python3"
    },
    "language_info": {
      "name": "python"
    }
  },
  "nbformat": 4,
  "nbformat_minor": 0
}